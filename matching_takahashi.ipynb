{
 "cells": [
  {
   "cell_type": "code",
   "execution_count": 18,
   "metadata": {
    "collapsed": false
   },
   "outputs": [
    {
     "ename": "ValueError",
     "evalue": "4 is not in list",
     "output_type": "error",
     "traceback": [
      "\u001b[1;31m---------------------------------------------------------------------------\u001b[0m",
      "\u001b[1;31mValueError\u001b[0m                                Traceback (most recent call last)",
      "\u001b[1;32m<ipython-input-18-ab36224c519a>\u001b[0m in \u001b[0;36m<module>\u001b[1;34m()\u001b[0m\n\u001b[0;32m     61\u001b[0m \u001b[1;33m\u001b[0m\u001b[0m\n\u001b[0;32m     62\u001b[0m     \u001b[1;32mreturn\u001b[0m \u001b[0mprop_matched_computed\u001b[0m\u001b[1;33m,\u001b[0m \u001b[0mresp_matched_computed\u001b[0m\u001b[1;33m\u001b[0m\u001b[0m\n\u001b[1;32m---> 63\u001b[1;33m \u001b[0md\u001b[0m\u001b[1;33m=\u001b[0m\u001b[0mdeferred_acceptance\u001b[0m\u001b[1;33m(\u001b[0m\u001b[1;33m[\u001b[0m\u001b[1;33m[\u001b[0m\u001b[1;36m0\u001b[0m\u001b[1;33m,\u001b[0m\u001b[1;36m1\u001b[0m\u001b[1;33m,\u001b[0m\u001b[1;36m2\u001b[0m\u001b[1;33m,\u001b[0m\u001b[1;36m3\u001b[0m\u001b[1;33m,\u001b[0m\u001b[1;33m]\u001b[0m\u001b[1;33m,\u001b[0m\u001b[1;33m[\u001b[0m\u001b[1;36m1\u001b[0m\u001b[1;33m,\u001b[0m\u001b[1;36m0\u001b[0m\u001b[1;33m,\u001b[0m\u001b[1;36m2\u001b[0m\u001b[1;33m,\u001b[0m\u001b[1;36m3\u001b[0m\u001b[1;33m]\u001b[0m\u001b[1;33m,\u001b[0m\u001b[1;33m[\u001b[0m\u001b[1;36m1\u001b[0m\u001b[1;33m,\u001b[0m\u001b[1;36m2\u001b[0m\u001b[1;33m,\u001b[0m\u001b[1;36m0\u001b[0m\u001b[1;33m,\u001b[0m\u001b[1;36m3\u001b[0m\u001b[1;33m]\u001b[0m\u001b[1;33m,\u001b[0m\u001b[1;33m[\u001b[0m\u001b[1;36m0\u001b[0m\u001b[1;33m,\u001b[0m\u001b[1;36m2\u001b[0m\u001b[1;33m,\u001b[0m\u001b[1;36m1\u001b[0m\u001b[1;33m,\u001b[0m\u001b[1;36m3\u001b[0m\u001b[1;33m]\u001b[0m\u001b[1;33m]\u001b[0m\u001b[1;33m,\u001b[0m\u001b[1;33m[\u001b[0m\u001b[1;33m[\u001b[0m\u001b[1;36m0\u001b[0m\u001b[1;33m,\u001b[0m\u001b[1;36m1\u001b[0m\u001b[1;33m,\u001b[0m\u001b[1;36m2\u001b[0m\u001b[1;33m,\u001b[0m\u001b[1;36m3\u001b[0m\u001b[1;33m]\u001b[0m\u001b[1;33m,\u001b[0m\u001b[1;33m[\u001b[0m\u001b[1;36m0\u001b[0m\u001b[1;33m,\u001b[0m\u001b[1;36m2\u001b[0m\u001b[1;33m,\u001b[0m\u001b[1;36m1\u001b[0m\u001b[1;33m,\u001b[0m\u001b[1;36m3\u001b[0m\u001b[1;33m]\u001b[0m\u001b[1;33m,\u001b[0m\u001b[1;33m[\u001b[0m\u001b[1;36m0\u001b[0m\u001b[1;33m,\u001b[0m\u001b[1;36m2\u001b[0m\u001b[1;33m,\u001b[0m\u001b[1;36m3\u001b[0m\u001b[1;33m,\u001b[0m\u001b[1;36m1\u001b[0m\u001b[1;33m]\u001b[0m\u001b[1;33m]\u001b[0m\u001b[1;33m,\u001b[0m\u001b[1;33m[\u001b[0m\u001b[1;36m1\u001b[0m\u001b[1;33m,\u001b[0m\u001b[1;36m2\u001b[0m\u001b[1;33m,\u001b[0m\u001b[1;36m1\u001b[0m\u001b[1;33m]\u001b[0m \u001b[1;33m)\u001b[0m\u001b[1;33m\u001b[0m\u001b[0m\n\u001b[0m\u001b[0;32m     64\u001b[0m \u001b[0md\u001b[0m\u001b[1;33m\u001b[0m\u001b[0m\n",
      "\u001b[1;32m<ipython-input-18-ab36224c519a>\u001b[0m in \u001b[0;36mdeferred_acceptance\u001b[1;34m(prop_prefs, resp_prefs, caps)\u001b[0m\n\u001b[0;32m     31\u001b[0m \u001b[1;33m\u001b[0m\u001b[0m\n\u001b[0;32m     32\u001b[0m             \u001b[1;32mif\u001b[0m \u001b[0mpbest\u001b[0m \u001b[1;33m!=\u001b[0m \u001b[0mrnum\u001b[0m\u001b[1;33m:\u001b[0m\u001b[1;31m# アプローチされた大学が実態のある人なら\u001b[0m\u001b[1;33m\u001b[0m\u001b[0m\n\u001b[1;32m---> 33\u001b[1;33m                 \u001b[1;32mif\u001b[0m \u001b[0mcp_resp_prefs\u001b[0m\u001b[1;33m[\u001b[0m\u001b[0mpbest\u001b[0m\u001b[1;33m]\u001b[0m\u001b[1;33m.\u001b[0m\u001b[0mindex\u001b[0m\u001b[1;33m(\u001b[0m\u001b[0mi\u001b[0m\u001b[1;33m)\u001b[0m \u001b[1;33m<\u001b[0m \u001b[0mcp_resp_prefs\u001b[0m\u001b[1;33m[\u001b[0m\u001b[0mpbest\u001b[0m\u001b[1;33m]\u001b[0m\u001b[1;33m.\u001b[0m\u001b[0mindex\u001b[0m\u001b[1;33m(\u001b[0m\u001b[0mhave\u001b[0m\u001b[1;33m[\u001b[0m\u001b[0mpbest\u001b[0m\u001b[1;33m]\u001b[0m\u001b[1;33m)\u001b[0m\u001b[1;33m:\u001b[0m\u001b[1;33m\u001b[0m\u001b[0m\n\u001b[0m\u001b[0;32m     34\u001b[0m                     \u001b[0mfree\u001b[0m\u001b[1;33m.\u001b[0m\u001b[0mremove\u001b[0m\u001b[1;33m(\u001b[0m\u001b[0mi\u001b[0m\u001b[1;33m)\u001b[0m\u001b[1;31m#仮として結ばれ独身でなくなる\u001b[0m\u001b[1;33m\u001b[0m\u001b[0m\n\u001b[0;32m     35\u001b[0m                     \u001b[0mhave\u001b[0m\u001b[1;33m[\u001b[0m\u001b[0mpbest\u001b[0m\u001b[1;33m]\u001b[0m \u001b[1;33m=\u001b[0m \u001b[0mi\u001b[0m\u001b[1;31m#代わってiさんが仮の付き合ってる人になる\u001b[0m\u001b[1;33m\u001b[0m\u001b[0m\n",
      "\u001b[1;31mValueError\u001b[0m: 4 is not in list"
     ]
    }
   ],
   "source": [
    "def deferred_acceptance(prop_prefs, resp_prefs,caps=None): \n",
    "    indptr=[0,1,3,4]#indptrの導出方法はまだ分からず。\n",
    "    import numpy as np\n",
    "    cp_resp_prefs=[]\n",
    "    for i in range(len(resp_prefs)):\n",
    "        a= list(resp_prefs[i])\n",
    "        for j in range(caps[i]):\n",
    "            cp_resp_prefs.append(a)#大学側の選好を複製\n",
    "    \n",
    "    for j in range(len(prop_prefs)):\n",
    "        a=prop_prefs[j]\n",
    "        for i in range(len(indptr)-1,0,-1):\n",
    "            a[a.index(i)]=indptr[i]\n",
    "        indptr.pop(-1)    \n",
    "        for i in indptr:\n",
    "            a[a.index(i):a.index(i)+1]=(np.array([i]*caps[indptr.index(i)]))+(np.array(range(caps[indptr.index(i)])))\n",
    "        prop_prefs[j]=a\n",
    "        indptr.append(sum(caps))#学生側の選好を複製した大学の番号に合わせる\n",
    "\n",
    "    pnum = len(prop_prefs) #pnumをunmatchedにも対応させている。 prop_prefs :  m  x  (n+1)  の2次元配列\n",
    "    rnum = len(cp_resp_prefs) # ここ要注意。\n",
    "    free=range(pnum)  #受験者に番号をそれぞれ割り振る。最初はみんな内定とってない。\n",
    "    omedeto = {}#合格者の組\n",
    "    have = [pnum for i in range(rnum)]#最初は皆受け入れるので、付き合っている人は最も序列の低いunmatchedとしてのmnumで統一して全部入れる \n",
    "    down = [0 for i in range(pnum)]#０で全部入れる。 \n",
    "    while len(free) > 0:\n",
    "\n",
    "        for i in free:\n",
    "\n",
    "            pbest = prop_prefs[i][down[i]]#iからアプローチされた大学\n",
    "\n",
    "            if pbest != rnum:# アプローチされた大学が実態のある人なら\n",
    "                if cp_resp_prefs[pbest].index(i) < cp_resp_prefs[pbest].index(have[pbest]): #aList = [123, 'xyz', 'zara', 'abc'でaList.index( 'xyz' ) は１、aList.index( 'zara' ) は２が返される。                     \n",
    "#iが、アプローチされた女性の選好において何番目に位置するか＜すでに付き合っている男性（最初はunmatched)が、プローチされた女性の選好において何番目に位置するか                   \n",
    "                    free.remove(i)#仮として結ばれ独身でなくなる \n",
    "                    have[pbest] = i#代わってiさんが仮の付き合ってる人になる \n",
    "                    if have[pbest] != pnum: #すでに付き合っている男性がunmatchedでなく、普通の男性なら、                          \n",
    "                        free.append(have[pbest]) #その男性は独身になる \n",
    "                                    \n",
    "                else: #iが、アプローチされた女性の選好において何番目に位置するか＞すでに付き合っている男性が、プローチされた女性の選好において何番目に位置するか　で恋に敗れてしまったら \n",
    "                    if down[i] < rnum - 1: #まだ希望があれば                          \n",
    "                        down[i] += 1#選好を一つ落としてまた頑張ろう \n",
    "                    else:#もう選択肢がなければ、 \n",
    "                        free.remove(i)#戦闘から離脱して大人しく、i: rnumってことにしろ                         \n",
    "                        omedeto.update({i: rnum}) \n",
    "            else:#もうunmatchedだったら、そこで終わり。戦闘から離脱して大人しく、i: rnumってことにしろ \n",
    "                free.remove(i) \n",
    "                omedeto.update({i: rnum}) \n",
    " \n",
    "    for i in have: \n",
    "        if i != pnum: \n",
    "            omedeto.update({i: have.index(i)})#男各々iに対して順番に最終的に付き合っていた女性と結婚させる{0:2,1:18,2:28,3:14,}みたいに \n",
    " \n",
    " \n",
    "    omedeto = omedeto.items()#The method items() returns a list of dict's (key, value) tuple pairs \n",
    "                              #例えば、dict = {'Name': 'Zara', 'Age': 7}で、dict.items()とすると[('Age', 7), ('Name', 'Zara')]と返す \n",
    "                              #ここでは、[(0,2),(1,18),(2,28),(3,14)]みたいになる \n",
    "    prop_matched_computed = [] \n",
    "    for i in range(pnum): \n",
    "        prop_matched_computed.append(omedeto[i][1])#女性の番号を割り出す。 \n",
    "    resp_matched_computed = have \n",
    "      \n",
    "    return prop_matched_computed, resp_matched_computed \n",
    "d=deferred_acceptance([[0,1,2,3,],[1,0,2,3],[1,2,0,3],[0,2,1,3]],[[0,1,2,3],[0,2,1,3],[0,2,3,1]],[1,2,1] )\n",
    "d"
   ]
  },
  {
   "cell_type": "code",
   "execution_count": null,
   "metadata": {
    "collapsed": true
   },
   "outputs": [],
   "source": []
  }
 ],
 "metadata": {
  "kernelspec": {
   "display_name": "Python 2",
   "language": "python",
   "name": "python2"
  },
  "language_info": {
   "codemirror_mode": {
    "name": "ipython",
    "version": 2
   },
   "file_extension": ".py",
   "mimetype": "text/x-python",
   "name": "python",
   "nbconvert_exporter": "python",
   "pygments_lexer": "ipython2",
   "version": "2.7.9"
  }
 },
 "nbformat": 4,
 "nbformat_minor": 0
}
