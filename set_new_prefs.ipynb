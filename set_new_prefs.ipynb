{
 "cells": [
  {
   "cell_type": "code",
   "execution_count": null,
   "metadata": {
    "collapsed": true
   },
   "outputs": [],
   "source": [
    "\"\"\"\n",
    "たとえば下記のような（多対一のマッチング用の）引数を与えられたとして、それを一対一の形で解けるような形の二種類のprefsおよび\n",
    "受け入れ側の番号の対応表を返すような関数を作る、ことを考えます\n",
    "\n",
    "\n",
    "prop_prefs = [[0,1,2,3],\n",
    "              [1,2,0,3],\n",
    "              [2,1,3,0],\n",
    "              [0,3,1,2]]\n",
    "              \n",
    "resp_prefs = [[0,1,2,3,4],\n",
    "              [1,0,3,2,4],\n",
    "              [0,1,4,3,2]]\n",
    "              \n",
    "caps = [1,1,2]\n",
    "\n",
    "\n",
    "この場合、新たに返すものとして考えられるのは\n",
    "belong = [0,1,2,2]\n",
    "\n",
    "new_p_prefs = [[0,1,2,3,4],\n",
    "               [1,2,3,0,4],\n",
    "               [2,3,1,4,0],\n",
    "               [0,4,1,2,3]]\n",
    "               \n",
    "new_r_prefs = [[0,1,2,3,4],\n",
    "               [1,0,3,2,4],\n",
    "               [0,1,4,3,2],\n",
    "               [0,1,4,3,2]]\n",
    "               \n",
    "の3つです。(belongは最後に「〜〜は〜〜とマッチしました」のようなことを表示するために役立ちそうなので作ったが、\n",
    "capsを使って別に求める方法はあるので必ず必要というわけではない)\n",
    "\n",
    "belongとnew_r_prefsを作るのは割とカンタンですが、new_p_prefsを作るのは骨が折れそうです。\n",
    "なので、これを作るところにポイントを置きたいところ。\n",
    "\"\"\""
   ]
  },
  {
   "cell_type": "code",
   "execution_count": 95,
   "metadata": {
    "collapsed": true
   },
   "outputs": [],
   "source": [
    "prop_prefs = [[0,1,2,3],\n",
    "              [1,2,0,3],\n",
    "              [2,1,3,0],\n",
    "              [0,3,1,2]]\n",
    "              \n",
    "resp_prefs = [[0,1,2,3,4],\n",
    "              [1,0,3,2,4],\n",
    "              [0,1,4,3,2]]\n",
    "caps = [1,1,2]"
   ]
  },
  {
   "cell_type": "code",
   "execution_count": 96,
   "metadata": {
    "collapsed": false
   },
   "outputs": [],
   "source": [
    "def newpref(prop_prefs, resp_prefs, caps):\n",
    "    import numpy as np\n",
    "    prop_num = len(prop_prefs)\n",
    "    resp_num = len(resp_prefs)\n",
    "    new_r_num = sum(caps)\n",
    "\n",
    "    indptr = np.empty(resp_num+1,dtype=int)\n",
    "    indptr[0] = 0\n",
    "    indptr[1:] = np.cumsum(caps)\n",
    "\n",
    "    belong = [0]*new_r_num\n",
    "    for i, j in enumerate(indptr[:-1]):\n",
    "        belong[indptr[j]:indptr[j+1]] = [i]*(indptr[j+1]-indptr[j])\n",
    "\n",
    "    new_r_prefs = [[]]*new_r_num\n",
    "\n",
    "    for i in range(new_r_num):\n",
    "        new_r_prefs[i] = resp_prefs[belong[i]]\n",
    "        # generating new_r_prefs is completed \n",
    "    \n",
    "    new_p_prefs = [[]]*prop_num\n",
    "\n",
    "    shift = [0]*(resp_num+1)\n",
    "    for i in range(resp_num):\n",
    "        shift[i] = range(indptr[i],indptr[i+1])\n",
    "    shift[-1] = [indptr[-1]]\n",
    "    \n",
    "    for i in range(prop_num):\n",
    "        new_p_prefs[i] = [] # to defend error by \"call by reference\",\"Sansho Watashi\"\n",
    "        for j in range(resp_num+1):\n",
    "            new_p_prefs[i].extend(shift[prop_prefs[i][j]])\n",
    "\n",
    "    return new_p_prefs, new_r_prefs, belong "
   ]
  },
  {
   "cell_type": "code",
   "execution_count": 97,
   "metadata": {
    "collapsed": false
   },
   "outputs": [
    {
     "data": {
      "text/plain": [
       "([[0, 1, 2, 3, 4], [1, 2, 3, 0, 4], [2, 3, 1, 4, 0], [0, 4, 1, 2, 3]],\n",
       " [[0, 1, 2, 3, 4], [1, 0, 3, 2, 4], [0, 1, 4, 3, 2], [0, 1, 4, 3, 2]],\n",
       " [0, 1, 2, 2])"
      ]
     },
     "execution_count": 97,
     "metadata": {},
     "output_type": "execute_result"
    }
   ],
   "source": [
    "newpref(prop_prefs, resp_prefs, caps)"
   ]
  }
 ],
 "metadata": {
  "kernelspec": {
   "display_name": "Python 2",
   "language": "python",
   "name": "python2"
  },
  "language_info": {
   "codemirror_mode": {
    "name": "ipython",
    "version": 2
   },
   "file_extension": ".py",
   "mimetype": "text/x-python",
   "name": "python",
   "nbconvert_exporter": "python",
   "pygments_lexer": "ipython2",
   "version": "2.7.10"
  }
 },
 "nbformat": 4,
 "nbformat_minor": 0
}
