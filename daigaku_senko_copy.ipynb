{
 "cells": [
  {
   "cell_type": "code",
   "execution_count": 2,
   "metadata": {
    "collapsed": false
   },
   "outputs": [
    {
     "data": {
      "text/plain": [
       "[0, 1, 2, 0, 1, 2]"
      ]
     },
     "execution_count": 2,
     "metadata": {},
     "output_type": "execute_result"
    }
   ],
   "source": [
    "p_resp_prefs=[0,1,2]\n",
    "a=p_resp_prefs*2\n",
    "a"
   ]
  },
  {
   "cell_type": "code",
   "execution_count": 4,
   "metadata": {
    "collapsed": false
   },
   "outputs": [
    {
     "data": {
      "text/plain": [
       "[[0, 1, 2], [0, 1, 2]]"
      ]
     },
     "execution_count": 4,
     "metadata": {},
     "output_type": "execute_result"
    }
   ],
   "source": [
    "#p_resp_prefs=[[0,1,2],[2,1,0]]\n",
    "p_resp_prefs=[0,1,2]\n",
    "#caps=[1,2]\n",
    "cp_resp_prefs=[]\n",
    "a= list(p_resp_prefs)\n",
    "for i in range(2):\n",
    "    cp_resp_prefs.append(a)\n",
    "cp_resp_prefs"
   ]
  },
  {
   "cell_type": "code",
   "execution_count": 6,
   "metadata": {
    "collapsed": false
   },
   "outputs": [
    {
     "data": {
      "text/plain": [
       "[[0, 1, 2], [2, 1, 0], [2, 1, 0]]"
      ]
     },
     "execution_count": 6,
     "metadata": {},
     "output_type": "execute_result"
    }
   ],
   "source": [
    "p_resp_prefs=[[0,1,2],[2,1,0]]\n",
    "#caps=[1,2]\n",
    "cp_resp_prefs=[]\n",
    "a= list(p_resp_prefs[0])\n",
    "for i in range(1):\n",
    "    cp_resp_prefs.append(a)\n",
    "b=list(p_resp_prefs[1])\n",
    "for i in range(2):\n",
    "    cp_resp_prefs.append(b)\n",
    "cp_resp_prefs"
   ]
  },
  {
   "cell_type": "code",
   "execution_count": 8,
   "metadata": {
    "collapsed": false
   },
   "outputs": [
    {
     "data": {
      "text/plain": [
       "[[0, 1, 2], [2, 1, 0], [2, 1, 0]]"
      ]
     },
     "execution_count": 8,
     "metadata": {},
     "output_type": "execute_result"
    }
   ],
   "source": [
    "p_resp_prefs=[[0,1,2],[2,1,0]]\n",
    "caps=[1,2]\n",
    "cp_resp_prefs=[]\n",
    "a= list(p_resp_prefs[0])\n",
    "for i in range(caps[0]):\n",
    "    cp_resp_prefs.append(a)\n",
    "b=list(p_resp_prefs[1])\n",
    "for i in range(caps[1]):\n",
    "    cp_resp_prefs.append(b)\n",
    "cp_resp_prefs"
   ]
  },
  {
   "cell_type": "code",
   "execution_count": 12,
   "metadata": {
    "collapsed": false
   },
   "outputs": [
    {
     "data": {
      "text/plain": [
       "2"
      ]
     },
     "execution_count": 12,
     "metadata": {},
     "output_type": "execute_result"
    }
   ],
   "source": [
    "p_resp_prefs=[[0,1,2],[2,1,0]]\n",
    "len(p_resp_prefs)"
   ]
  },
  {
   "cell_type": "code",
   "execution_count": 13,
   "metadata": {
    "collapsed": false
   },
   "outputs": [
    {
     "data": {
      "text/plain": [
       "[[0, 1, 2], [2, 1, 0], [2, 1, 0]]"
      ]
     },
     "execution_count": 13,
     "metadata": {},
     "output_type": "execute_result"
    }
   ],
   "source": [
    "p_resp_prefs=[[0,1,2],[2,1,0]]#と仮にします\n",
    "caps=[1,2]#と仮にします\n",
    "cp_resp_prefs=[]\n",
    "for i in range(len(p_resp_prefs)):\n",
    "    a= list(p_resp_prefs[i])\n",
    "    for j in range(caps[i]):\n",
    "        cp_resp_prefs.append(a)\n",
    "cp_resp_prefs"
   ]
  },
  {
   "cell_type": "code",
   "execution_count": null,
   "metadata": {
    "collapsed": true
   },
   "outputs": [],
   "source": []
  }
 ],
 "metadata": {
  "kernelspec": {
   "display_name": "Python 2",
   "language": "python",
   "name": "python2"
  },
  "language_info": {
   "codemirror_mode": {
    "name": "ipython",
    "version": 2
   },
   "file_extension": ".py",
   "mimetype": "text/x-python",
   "name": "python",
   "nbconvert_exporter": "python",
   "pygments_lexer": "ipython2",
   "version": "2.7.10"
  }
 },
 "nbformat": 4,
 "nbformat_minor": 0
}
