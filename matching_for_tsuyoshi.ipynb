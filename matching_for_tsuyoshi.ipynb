{
 "cells": [
  {
   "cell_type": "code",
   "execution_count": null,
   "metadata": {
    "collapsed": true
   },
   "outputs": [],
   "source": [
    "def deferred_acceptance(prop_prefs, resp_prefs,caps=None):\n",
    "    cp_resp_prefs=[]\n",
    "    for i in range(len(resp_prefs)):\n",
    "        a=[]\n",
    "        b= list(resp_prefs[i])\n",
    "        for j in range(caps[i]):\n",
    "            a.append(b)\n",
    "        cp_resp_prefs.append(a) #resp_prefsのコピーを作成\n",
    "\n",
    "    pnum = len(prop_prefs) #さらにmnumをunmatchedにも対応させている\n",
    "    rnum = len(resp_prefs)\n",
    "    free=range(pnum)  #受験者に番号をそれぞれ割り振る。最初はみんな内定とってない。\n",
    "    omedeto = {}#合格者の組\n",
    "    \n",
    "    have=[]\n",
    "    for i in range(len(resp_prefs)):\n",
    "        a=[]\n",
    "        b=pnum\n",
    "        for j in range(caps[i]):\n",
    "            a.append(b)\n",
    "        have.append(a)#仮に受け入れている人を表す。最初は皆受け入れるので、初期状態で受け入れている人は最も序列の低いunmatchedとしてのpnumで統一して全部入れる\n",
    "    \n",
    "    down = [0 for i in range(mnum)]#選好を表すdown。０で全部入れる。\n",
    "\n",
    "    while len(free) > 0:\n",
    "\n",
    "        for i in free:\n",
    "\n",
    "            pbest = prop_prefs[i][down[i]]#iからアプローチされた大学\n",
    "\n",
    "            if pbest != rnum:# アプローチされた大学が実態のある人なら\n",
    "                a=[]\n",
    "                for j in range(len(cp_resp_prefs[pbest])):\n",
    "                    a.append(cp_resp_prefs[pbest][j].index(have[pbest]))\n",
    "                if cp_resp_prefs[pbest][0].index(i) < max(a): \n",
    "                    #iが、アプローチされた大学の選好において何番目に位置するか＜すでに内定もらっている受験生の中で一番ランクが低い受験生（最初はunmatched)が、アプローチされた大学の選好において何番目に位置するか\n",
    "                    free.remove(i)#iさんは仮内定となり、フリーでなくなる\n",
    "                    if cp_resp_prefs[pbest][max(a)] != pnum: #すでに内定を受けていた受験生がunmatchedでなく、普通の人なら、\n",
    "                        free.append(cp_resp_prefs[pbest][max(a)]) #その人はフリーになる\n",
    "                    have[have.index(cp_resp_prefs[pbest][max(a)])] = i                #代わってiさんが仮の内定者になる\n",
    "                else: #iが、アプローチされた女性の選好において何番目に位置するか＞すでに付き合っている男性が、プローチされた女性の選好において何番目に\n",
    "                    if down[i] < rnum - 1: #まだ希望があれば\n",
    "                        down[i] += 1#選好を一つ落としてまた頑張ろう\n",
    "                    else:#もう選択肢がなければ、\n",
    "                        free.remove(i)#戦闘から離脱して大人しく、i: fnumってことにしろ\n",
    "                        married.update({i: rnum})\n",
    "            else:#もうunmatchedだったら、そこで終わり。戦闘から離脱して大人しく、i: fnumってことにしろ\n",
    "                free.remove(i)\n",
    "                married.update({i: rnum})"
   ]
  }
 ],
 "metadata": {
  "kernelspec": {
   "display_name": "Python 2",
   "language": "python",
   "name": "python2"
  },
  "language_info": {
   "codemirror_mode": {
    "name": "ipython",
    "version": 2
   },
   "file_extension": ".py",
   "mimetype": "text/x-python",
   "name": "python",
   "nbconvert_exporter": "python",
   "pygments_lexer": "ipython2",
   "version": "2.7.10"
  }
 },
 "nbformat": 4,
 "nbformat_minor": 0
}
