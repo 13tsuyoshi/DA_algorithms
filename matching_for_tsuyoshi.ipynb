{
 "cells": [
  {
   "cell_type": "code",
   "execution_count": null,
   "metadata": {
    "collapsed": true
   },
   "outputs": [],
   "source": [
    "def deferred_acceptance(prop_prefs, resp_prefs,caps=None):\n",
    "    \n",
    "    \n",
    "    \"\"\"\n",
    "    変更点1（resp_prefsのコピー作成部分をまるまる削除）\n",
    "    あえてresp_prefsを分解して空のリストに追加することでコピーを作る必要はないです\n",
    "    この関数でやる作業が選好のリストの中身を変えてしまうものでなければそのままresp_prefsを使えばいいですし、\n",
    "    中身を変えてしまう（そのため、2回以上繰り返すとうまくいかない）ようなものであるならば\n",
    "    import copy でcopyというモジュールをインポートして\n",
    "    cp_resp_prefs = copy.deepcopy(resp_prefs)とやってやればいいです\n",
    "    \n",
    "    \"\"\"\n",
    "\n",
    "    pnum = len(prop_prefs) #さらにmnumをunmatchedにも対応させている\n",
    "    rnum = len(resp_prefs)\n",
    "    free=range(pnum)  #受験者に番号をそれぞれ割り振る。最初はみんな内定とってない。\n",
    "    omedeto = {}\n",
    "    \"\"\"\n",
    "    出力形式として求められているのはいずれもリストなので、dict型を使うことにはあまり合理性がない気がします\n",
    "    \"\"\"\n",
    "    \n",
    "    have=[]\n",
    "    have = [pnum] * rnum\n",
    "    for i in range(rnum): # 変更点2……rnumでresp側の数は定まっているのでそれを使いましょう\n",
    "        have.append([pnum] * caps[i]) \n",
    "        \"\"\"\n",
    "        変更点3……appendを複数回繰り返すのは効率も見栄えもあまりよくないです\n",
    "        caps[i]は大学iの受入人数を表していますから、上のようにして\n",
    "        その数だけpnumを並べたリストを作ってやることができます\n",
    "        \"\"\"\n",
    "    down = [0] * pnum #変更点4……決まった値だけのリストを作りたいならfor文を回す必要はない\n",
    "    \"\"\"\n",
    "    \n",
    "    down[i]は学生iが、もし次の申し込むチャンスが来た時にフリーなら申し込もうと考えている大学の選好順位\n",
    "    たとえばdown[0] = 2 なら、学生0は次に3番目に好きな大学に申し込む\n",
    "    （言い換えれば1、2番目には既に申し込みを行っています）\n",
    "    \"\"\"\n",
    "\n",
    "    while len(free) > 0:\n",
    "\n",
    "        for i in free:\n",
    "\n",
    "            pbest = prop_prefs[i][down[i]]#iからアプローチされた大学\n",
    "\n",
    "            if pbest != rnum:# アプローチされた大学が実態のある人なら\n",
    "                a=[]\n",
    "                for j in range(len(cp_resp_prefs[pbest])):\n",
    "                    a.append(cp_resp_prefs[pbest][j].index(have[pbest]))\n",
    "                if cp_resp_prefs[pbest][0].index(i) < max(a): \n",
    "                    #iが、アプローチされた大学の選好において何番目に位置するか＜すでに内定もらっている受験生の中で一番ランクが低い受験生（最初はunmatched)が、アプローチされた大学の選好において何番目に位置するか\n",
    "                    free.remove(i)#iさんは仮内定となり、フリーでなくなる\n",
    "                    if cp_resp_prefs[pbest][max(a)] != pnum: #すでに内定を受けていた受験生がunmatchedでなく、普通の人なら、\n",
    "                        free.append(cp_resp_prefs[pbest][max(a)]) #その人はフリーになる\n",
    "                    have[have.index(cp_resp_prefs[pbest][max(a)])] = i                #代わってiさんが仮の内定者になる\n",
    "                else: #iが、アプローチされた女性の選好において何番目に位置するか＞すでに付き合っている男性が、プローチされた女性の選好において何番目に\n",
    "                    if down[i] < rnum - 1: #まだ希望があれば\n",
    "                        down[i] += 1#選好を一つ落としてまた頑張ろう\n",
    "                    else:#もう選択肢がなければ、\n",
    "                        free.remove(i)#戦闘から離脱して大人しく、i: fnumってことにしろ\n",
    "                        married.update({i: rnum})\n",
    "            else:#もうunmatchedだったら、そこで終わり。戦闘から離脱して大人しく、i: fnumってことにしろ\n",
    "                free.remove(i)\n",
    "                married.update({i: rnum})"
   ]
  },
  {
   "cell_type": "code",
   "execution_count": null,
   "metadata": {
    "collapsed": true
   },
   "outputs": [],
   "source": []
  }
 ],
 "metadata": {
  "kernelspec": {
   "display_name": "Python 2",
   "language": "python",
   "name": "python2"
  },
  "language_info": {
   "codemirror_mode": {
    "name": "ipython",
    "version": 2
   },
   "file_extension": ".py",
   "mimetype": "text/x-python",
   "name": "python",
   "nbconvert_exporter": "python",
   "pygments_lexer": "ipython2",
   "version": "2.7.6"
  }
 },
 "nbformat": 4,
 "nbformat_minor": 0
}
